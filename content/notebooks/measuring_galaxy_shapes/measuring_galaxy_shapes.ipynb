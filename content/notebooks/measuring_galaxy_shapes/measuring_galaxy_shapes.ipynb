{
 "cells": [
  {
   "cell_type": "markdown",
   "metadata": {
    "slideshow": {
     "slide_type": "slide"
    }
   },
   "source": [
    "# Measuring galaxy shapes"
   ]
  },
  {
   "cell_type": "markdown",
   "metadata": {
    "slideshow": {
     "slide_type": "skip"
    }
   },
   "source": [
    "***"
   ]
  },
  {
   "cell_type": "markdown",
   "metadata": {
    "slideshow": {
     "slide_type": "slide"
    }
   },
   "source": [
    "## Kernel Information\n",
    "\n",
    "To run this notebook, please select the \"Roman Calibration\" kernel at the top right of your window.\n",
    "\n",
    "## Imports\n",
    "Below we list the libraries we'll be using in the tutorial:\n",
    "- *numpy* to handle array functions\n",
    "- *asdf* for accessing Advanced Scientific Data Format (ASDF) files\n",
    "- *astropy.table Table* for manipulating tabulated data\n",
    "- *matplotlib.pyplot* for plotting data\n",
    "- *matplotlib.colors.LogNorm* to represent 2D arrays in log-scale\n",
    "- *gwcs* to perform sky-to-detector coordinate transformations\n",
    "- *astropy.coordinates* to perform sky-to-detector coordinate transformations\n",
    "- *webbpsf* to access WFI point-spread functions\n",
    "- *galsim* to measure source moments and generate Sérsic profiles\n",
    "- *romanisim.bandpass.get_abflux* to convert flux from maggies to photons/s consistently with our simulation\n",
    "- *scipy.optimize.curve_fit* to fit our data\n",
    "- *roman_datamodels* to handle Roman data"
   ]
  },
  {
   "cell_type": "code",
   "execution_count": null,
   "metadata": {
    "slideshow": {
     "slide_type": "fragment"
    }
   },
   "outputs": [],
   "source": [
    "import numpy as np\n",
    "import asdf\n",
    "from astropy.table import Table\n",
    "import matplotlib.pyplot as plt\n",
    "from matplotlib.colors import LogNorm\n",
    "import webbpsf\n",
    "import galsim\n",
    "import gwcs\n",
    "from astropy.coordinates import SkyCoord\n",
    "import astropy.units as u\n",
    "from galsim.roman import collecting_area\n",
    "from romanisim.bandpass import get_abflux\n",
    "from scipy.optimize import curve_fit\n",
    "import roman_datamodels as rdm\n",
    "import s3fs\n",
    "%matplotlib inline"
   ]
  },
  {
   "cell_type": "markdown",
   "metadata": {
    "slideshow": {
     "slide_type": "slide"
    }
   },
   "source": [
    "## Introduction\n",
    "The main goal of this notebook is to illustrate a typical use case of Roman images, which is performing shape measurements of astronomical sources. \n",
    "\n",
    "We are going to perform two sets of measurements. First, we rely on [`galsim`](https://galsim-developers.github.io/) to perform ellipticity measurements. In particular, we use the\n",
    "[REGAUSS method in its HSM module](https://galsim-developers.github.io/GalSim/_build/html/hsm.html) ([Hirata & Seljak 2003](https://ui.adsabs.harvard.edu/abs/2003MNRAS.343..459H/abstract), [Mandelbaum et al. 2005](https://ui.adsabs.harvard.edu/abs/2005MNRAS.361.1287M/abstract)). Second, we fit a Sérsic model to a galaxy cutout.\n",
    "\n",
    "This notebook relies on ASDF file manipulations. For additional information about these files\n",
    "and how to use them, please check our Working with ASDF notebook tutorial.\n",
    "\n",
    "### Defining terms\n",
    "\n",
    "- ASDF: Advanced Scientific Data Format -- the current preferred data format for Roman's Science Pipelines."
   ]
  },
  {
   "cell_type": "markdown",
   "metadata": {},
   "source": [
    "***"
   ]
  },
  {
   "cell_type": "markdown",
   "metadata": {
    "slideshow": {
     "slide_type": "slide"
    }
   },
   "source": [
    "## Loading data\n",
    "The first step of the analysis is to read the Roman WFI image data, which are stored in ASDF format. For this example, we start with a calibrated level-2 simulated image created with [`romanisim`](https://romanisim.readthedocs.io). For more information about Roman's data products check the [Roman User Documentation](roman-docs.stsci.edu). We use `roman_datamodels` to open the simulated image."
   ]
  },
  {
   "cell_type": "code",
   "execution_count": null,
   "metadata": {
    "slideshow": {
     "slide_type": "fragment"
    }
   },
   "outputs": [],
   "source": [
    "# This  will change when the data are elsewhere\n",
    "asdf_dir_uri = 's3://roman-sci-test-data-prod-summer-beta-test/'\n",
    "fs = s3fs.S3FileSystem()\n",
    "asdf_file_uri_l2 = asdf_dir_uri + 'ROMANISIM/GALAXIES/r0003201001001001004_01101_0001_WFI01_cal.asdf'\n",
    "\n",
    "with fs.open(asdf_file_uri_l2, 'rb') as f:\n",
    "    img_asdf = rdm.open(f).copy()"
   ]
  },
  {
   "cell_type": "markdown",
   "metadata": {},
   "source": [
    "To characterize the shape of our sources, we need to get cutouts of individual targets, and perform our measurements. There are many options to get the cutouts. We choose to use the input catalog from the simulation software to define our cutouts. In a more realistic scenario, we would run a source detection algorithm to identify the locations of the sources.\n",
    "\n",
    "We start by saving the image array in the `img_arr` variable. Remember that the `data` datablock in the ASDF files contain the data arrays, and these typically are `astropy.quantity.Quantity` objects with units and values. In this case, we are just interested in the `value.()` attribute of the image (in DN / sec)."
   ]
  },
  {
   "cell_type": "code",
   "execution_count": null,
   "metadata": {},
   "outputs": [],
   "source": [
    "img_arr = img_asdf['data'][:, :].value\n",
    "print('The units of the original data are: ', img_asdf['data'].unit)"
   ]
  },
  {
   "cell_type": "markdown",
   "metadata": {},
   "source": [
    "We read the input catalog using `astropy.table`. More details about these catalogs are available [here](https://romanisim.readthedocs.io/en/latest/romanisim/catalog.html)."
   ]
  },
  {
   "cell_type": "code",
   "execution_count": null,
   "metadata": {},
   "outputs": [],
   "source": [
    "cat_uri = asdf_dir_uri + 'ROMANISIM/CATALOGS_SCRIPTS/galfield.ecsv'\n",
    "with fs.open(cat_uri, 'r') as catalog_file_stream:\n",
    "    catalog = Table.read(cat_uri, format='ascii.ecsv').copy()"
   ]
  },
  {
   "cell_type": "markdown",
   "metadata": {},
   "source": [
    "As a quick sanity check we plot the positions of 1% of the objects"
   ]
  },
  {
   "cell_type": "code",
   "execution_count": null,
   "metadata": {},
   "outputs": [],
   "source": [
    "catalog['ra'][catalog['ra'] > 180] -= 360\n",
    "plt.scatter(catalog['ra'][::100], catalog['dec'][::100], s=0.1)\n",
    "plt.xlabel('RA [deg]', fontsize=16)\n",
    "plt.ylabel('Dec [deg]', fontsize=16)"
   ]
  },
  {
   "cell_type": "markdown",
   "metadata": {},
   "source": [
    "## Creating cutouts and retrieving WebbPSF's PSF\n",
    "\n",
    "The positions are in sky coordinates. In order to make the cutouts we need the pixel coordinates in the image. In order to do that, we use the input World Coordinate System (WCS).\n",
    "In the case of Roman data, these correspond to GWCS objects. For more information about GWCS please check the documentation [here](https://gwcs.readthedocs.io/)."
   ]
  },
  {
   "cell_type": "code",
   "execution_count": null,
   "metadata": {},
   "outputs": [],
   "source": [
    "w = img_asdf['meta']['wcs'] # We call the GWCS object w for later usage"
   ]
  },
  {
   "cell_type": "code",
   "execution_count": null,
   "metadata": {},
   "outputs": [],
   "source": [
    "coords = SkyCoord(ra=catalog['ra']*u.deg, dec=catalog['dec']*u.deg)  # Save the catalogs' coordinates in a SkyCoord object\n",
    "y, x = w.world_to_array_index_values(coords)  # Convert from sky to detector indices"
   ]
  },
  {
   "cell_type": "markdown",
   "metadata": {},
   "source": [
    "For illustrative purposes, we focus on fairly bright objects ($21 < \\mathrm{mag}_{158} < 21.5$), and we will be interested in galaxies (marked as `type=SER` in the catalog)."
   ]
  },
  {
   "cell_type": "code",
   "execution_count": null,
   "metadata": {},
   "outputs": [],
   "source": [
    "gal_sel =(-2.5*np.log10(catalog['F106']) > 21) & (-2.5*np.log10(catalog['F106']) < 21.5) & (catalog['type'] == 'SER')\n",
    "# We make sure that the sources are in the sensor\n",
    "padding = 10\n",
    "inchip = (x > padding) & (x < img_asdf['data'].shape[0] - padding) & (y > padding) & (y < img_asdf['data'].shape[1] - padding)\n",
    "gal_sel = (gal_sel) & (inchip)\n",
    "print(np.count_nonzero(gal_sel), 'galaxies pass these selection criteria')"
   ]
  },
  {
   "cell_type": "markdown",
   "metadata": {},
   "source": [
    "Most morphological measurements require high-accuracy knowledge of the PSF. In the case of our simulated scene, we know that the PSF that was used to generate was obtained via `webbpsf`."
   ]
  },
  {
   "cell_type": "code",
   "execution_count": null,
   "metadata": {},
   "outputs": [],
   "source": [
    "band = img_asdf['meta']['instrument']['optical_element']\n",
    "print('The simulated band is:', band)\n",
    "nc = webbpsf.WFI()  # We tell webbpsf that we want a Roman PSF\n",
    "nc.filter = band  # We configure the filter\n",
    "psf = nc.calc_psf(fov_pixels=64)  # We configure the size of the PSF array\n",
    "psf_img = galsim.Image(psf[0].data, scale=0.11/4)  # We specify the pixel scale, webbpsf's PSF is 4x oversampled, and Roman's pixel scale is 0.11 arcsec/pixel\n",
    "plt.imshow(psf_img.array, norm=LogNorm())"
   ]
  },
  {
   "cell_type": "markdown",
   "metadata": {},
   "source": [
    "By default the PSF is generated for SCA 01 at `(x, y)` 2048, 2048 in the science coordinate system (more information about coordinate systems in RDox: https://roman-docs.stsci.edu/simulation-tools-handbook-home/simulation-development-utilities/pysiaf-for-roman). \n",
    "\n",
    "These attributes can be confirmed and modified via the `nc.detector` and `nc.detector_position` methods."
   ]
  },
  {
   "cell_type": "code",
   "execution_count": null,
   "metadata": {},
   "outputs": [],
   "source": [
    "print(nc.detector)\n",
    "print(nc.detector_position)"
   ]
  },
  {
   "cell_type": "code",
   "execution_count": null,
   "metadata": {},
   "outputs": [],
   "source": [
    "psf_obj = galsim.InterpolatedImage(psf_img, flux=1)  # We save the PSF as an interpolated image so we can convolve and deconvolve later on"
   ]
  },
  {
   "cell_type": "code",
   "execution_count": null,
   "metadata": {},
   "outputs": [],
   "source": [
    "# We are going to select one of the galaxies within our galaxy selection gal_sel \n",
    "igal = 0\n",
    "ra = catalog['ra'][gal_sel][igal]\n",
    "dec = catalog['dec'][gal_sel][igal]\n",
    "# We create a fairly large cutout -- 4 times the half-light radius + 1 pixel for padding\n",
    "size = int(catalog['half_light_radius'][gal_sel][igal]*4/0.1+1)\n",
    "# We cut our original image on the selected coordinates of the source of interest\n",
    "xmin = int(x[gal_sel][igal] - size//2)\n",
    "xmax = xmin + size + 1\n",
    "ymin = int(y[gal_sel][igal] - size//2)\n",
    "ymax = ymin + size + 1\n",
    "cutout = galsim.Image(img_arr[ymin:ymax, xmin:xmax], scale=0.11)\n",
    "plt.imshow(cutout.array, origin='lower', norm=LogNorm())\n",
    "plt.colorbar(label='DN/s')\n",
    "plt.xlabel('X [pix]')\n",
    "plt.ylabel('Y [pix]')"
   ]
  },
  {
   "cell_type": "markdown",
   "metadata": {},
   "source": [
    "## Estimating the source's moments"
   ]
  },
  {
   "cell_type": "markdown",
   "metadata": {},
   "source": [
    "Now that we have our cutout saved as a `galsim.Image` object we can just use the `HSM` module to estimate the moments:"
   ]
  },
  {
   "cell_type": "code",
   "execution_count": null,
   "metadata": {},
   "outputs": [],
   "source": [
    "shape = galsim.hsm.FindAdaptiveMom(cutout, strict=False)"
   ]
  },
  {
   "cell_type": "code",
   "execution_count": null,
   "metadata": {},
   "outputs": [],
   "source": [
    "shape"
   ]
  },
  {
   "cell_type": "markdown",
   "metadata": {},
   "source": [
    "The `shape` variable contains the source moments estimated from the best-fit elliptical Gaussian. Since we have the PSF model we can also try to estimate the PSF-corrected galaxy shear"
   ]
  },
  {
   "cell_type": "code",
   "execution_count": null,
   "metadata": {},
   "outputs": [],
   "source": [
    "shape2 = galsim.hsm.EstimateShear(cutout, psf_img, strict=False)"
   ]
  },
  {
   "cell_type": "code",
   "execution_count": null,
   "metadata": {},
   "outputs": [],
   "source": [
    "shape2"
   ]
  },
  {
   "cell_type": "markdown",
   "metadata": {},
   "source": [
    "## Fitting a source to a Sérsic profile"
   ]
  },
  {
   "cell_type": "markdown",
   "metadata": {},
   "source": [
    "Another typical morphological analysis consists on fitting the source with a [Sérsic profile](https://en.wikipedia.org/wiki/S%C3%A9rsic_profile) ([Sérsic 1963](https://ui.adsabs.harvard.edu/abs/1963BAAA....6...41S/abstract)). We are going to rely on the Sérsic implementation in the `galsim` package instead of doing our own.\n",
    "\n",
    "In our example we will ignore the pixel mask (data quality array), but will use the error image."
   ]
  },
  {
   "cell_type": "markdown",
   "metadata": {},
   "source": [
    "First, we get the zeropoint from `romanisim` so we can convert from the input catalog units (maggies) to DN / sec:"
   ]
  },
  {
   "cell_type": "code",
   "execution_count": null,
   "metadata": {},
   "outputs": [],
   "source": [
    "zp = get_abflux(band)"
   ]
  },
  {
   "cell_type": "markdown",
   "metadata": {},
   "source": [
    "GalSim assumes that input fluxes are in photons / sec / cm$^{2}$. So, we compute the zeropoint shift from AB mag to the GalSim units:"
   ]
  },
  {
   "cell_type": "code",
   "execution_count": null,
   "metadata": {},
   "outputs": [],
   "source": [
    "deltazp = 2.5 * np.log10(collecting_area)"
   ]
  },
  {
   "cell_type": "markdown",
   "metadata": {},
   "source": [
    "Then we create our model:"
   ]
  },
  {
   "cell_type": "code",
   "execution_count": null,
   "metadata": {},
   "outputs": [],
   "source": [
    "def sersic_mod(cutout, n, hlr, flux, pa, x0, y0, q):\n",
    "    nx, ny = cutout.array.shape\n",
    "    flux = flux*zp*deltazp  # total flux in photons/s/cm^2\n",
    "    ser = galsim.Sersic(n, half_light_radius=hlr, flux=flux)\n",
    "    ser.shear(q=q, beta=pa*galsim.degrees)  # change PA and axis ratio\n",
    "    offset = galsim.PositionD(x=x0, y=y0)  # potentially shift a bit the profile\n",
    "    ser = galsim.convolve.Convolve(ser, psf_obj)  # add PSF -- the PSF is super-sampled!\n",
    "    img = galsim.ImageD(nx, ny, scale=0.11)  \n",
    "    ser.drawImage(image=img, offset=offset, scale=0.11)  # draw image of the model\n",
    "    return img.array.flatten()  # return a 1D-array"
   ]
  },
  {
   "cell_type": "markdown",
   "metadata": {},
   "source": [
    "We initialize the model with the truth parameters:"
   ]
  },
  {
   "cell_type": "code",
   "execution_count": null,
   "metadata": {},
   "outputs": [],
   "source": [
    "p0 = [catalog['n'][gal_sel][igal], catalog['half_light_radius'][gal_sel][igal], catalog['F106'][gal_sel][igal],\n",
    "              catalog['pa'][gal_sel][igal], 0., 0., catalog['ba'][gal_sel][igal]]\n",
    "fid_model = sersic_mod(cutout, p0[0], p0[1], p0[2], p0[3], p0[4], p0[5], p0[6])"
   ]
  },
  {
   "cell_type": "markdown",
   "metadata": {},
   "source": [
    "We obtain the error array in the location of the cutout:"
   ]
  },
  {
   "cell_type": "code",
   "execution_count": null,
   "metadata": {},
   "outputs": [],
   "source": [
    "err_img = img_asdf['err'][ymin:ymax, xmin:xmax].value.flatten()"
   ]
  },
  {
   "cell_type": "markdown",
   "metadata": {},
   "source": [
    "And fit the model using `scipy`'s `curve_fit` method. We add some bounds to the parameter space in order avoid software issues and unphysical values -- GalSim only supports `0.3 < n < 6.2`."
   ]
  },
  {
   "cell_type": "code",
   "execution_count": null,
   "metadata": {},
   "outputs": [],
   "source": [
    "pout, pcov = curve_fit(sersic_mod, cutout, cutout.array.flatten(), sigma=err_img,\n",
    "          p0=p0, bounds=([0.3, 0.05, 1e-11, 0, -size/2, -size/2, 0], [6.2, 3.0, 1e-7, 360, size/2, size/2, 1]))"
   ]
  },
  {
   "cell_type": "markdown",
   "metadata": {},
   "source": [
    "Let's see the resulting best-fit parameters of the fit:"
   ]
  },
  {
   "cell_type": "code",
   "execution_count": null,
   "metadata": {},
   "outputs": [],
   "source": [
    "print('n', 'hlr', 'flux', 'pa', 'x0', 'y0', 'q') \n",
    "print(pout)\n",
    "print(p0)"
   ]
  },
  {
   "cell_type": "code",
   "execution_count": null,
   "metadata": {},
   "outputs": [],
   "source": [
    "model_out = sersic_mod(cutout, pout[0], pout[1], pout[2], pout[3], pout[4], pout[5], pout[6])"
   ]
  },
  {
   "cell_type": "markdown",
   "metadata": {},
   "source": [
    "Let's examine the fit's residuals:"
   ]
  },
  {
   "cell_type": "code",
   "execution_count": null,
   "metadata": {},
   "outputs": [],
   "source": [
    "plt.imshow(cutout.array-model_out.reshape(cutout.array.shape), origin='lower')\n",
    "plt.colorbar(label='DN/s')\n",
    "plt.title('Fit residual');"
   ]
  },
  {
   "cell_type": "markdown",
   "metadata": {},
   "source": [
    "Finally, we show the fiducial model, the resulting model, and the original image. Which one is closer?"
   ]
  },
  {
   "cell_type": "code",
   "execution_count": null,
   "metadata": {},
   "outputs": [],
   "source": [
    "plt.imshow(fid_model.reshape(cutout.array.shape), norm=LogNorm(1, 3))\n",
    "plt.colorbar(label='DN/s')\n",
    "plt.title('Fiducial model')\n",
    "plt.figure()\n",
    "plt.imshow(model_out.reshape(cutout.array.shape), norm=LogNorm(1, 3))\n",
    "plt.colorbar(label='DN/s')\n",
    "plt.title('Best-fit model')\n",
    "plt.figure()\n",
    "plt.imshow(cutout.array, norm=LogNorm(1, 3))\n",
    "plt.colorbar(label='DN/s')\n",
    "plt.title('Original image');"
   ]
  },
  {
   "cell_type": "markdown",
   "metadata": {},
   "source": [
    "## Aditional Resources\n",
    "\n",
    "- [Roman User Documentation (RDox)](https://roman-docs.stsci.edu/)\n",
    "- [Roman Notebooks](https://github.com/spacetelescope/roman_datamodels)\n",
    "- [`romanisim` documentation](https://romanisim.readthedocs.io/)\n",
    "- [`webbpsf` documentation](https://webbpsf.readthedocs.io/)"
   ]
  },
  {
   "cell_type": "markdown",
   "metadata": {
    "slideshow": {
     "slide_type": "slide"
    }
   },
   "source": [
    "## About this notebook\n",
    "\n",
    "**Author:** Javier Sánchez, Amethyst Barnes, Ami Choi  \n",
    "**Updated On:** 2024-06-17"
   ]
  },
  {
   "cell_type": "markdown",
   "metadata": {},
   "source": [
    "***"
   ]
  },
  {
   "cell_type": "markdown",
   "metadata": {},
   "source": [
    "[Top of Page](#top)\n",
    "<img style=\"float: right;\" src=\"https://raw.githubusercontent.com/spacetelescope/notebooks/master/assets/stsci_pri_combo_mark_horizonal_white_bkgd.png\" alt=\"Space Telescope Logo\" width=\"200px\"/> "
   ]
  }
 ],
 "metadata": {
  "kernelspec": {
   "display_name": "Roman Calibration latest (2024-03-25)",
   "language": "python",
   "name": "roman-cal"
  },
  "language_info": {
   "codemirror_mode": {
    "name": "ipython",
    "version": 3
   },
   "file_extension": ".py",
   "mimetype": "text/x-python",
   "name": "python",
   "nbconvert_exporter": "python",
   "pygments_lexer": "ipython3",
   "version": "3.11.9"
  }
 },
 "nbformat": 4,
 "nbformat_minor": 4
}
